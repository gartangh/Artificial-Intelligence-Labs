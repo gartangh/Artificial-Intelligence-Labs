{
  "nbformat": 4,
  "nbformat_minor": 0,
  "metadata": {
    "colab": {
      "name": "a_star_student.ipynb",
      "provenance": [],
      "collapsed_sections": [],
      "toc_visible": true
    },
    "kernelspec": {
      "name": "python3",
      "display_name": "Python 3"
    }
  },
  "cells": [
    {
      "cell_type": "markdown",
      "metadata": {
        "id": "4KkORWl2F6M9",
        "colab_type": "text"
      },
      "source": [
        "# Load data to Colab"
      ]
    },
    {
      "cell_type": "code",
      "metadata": {
        "id": "kSqty85NFq-E",
        "colab_type": "code",
        "outputId": "f676ecf1-4364-4606-f061-d2f0f62b714d",
        "colab": {
          "base_uri": "https://localhost:8080/",
          "height": 72
        }
      },
      "source": [
        "if False: # Manual loading\n",
        "    from google.colab import file\n",
        "    uploaded = files.upload() # then browse, select the files. It's then uploaded\n",
        "    \n",
        "else: # Automatic loading\n",
        "    import requests\n",
        "    import gzip\n",
        "    \n",
        "    filepath_d_gr = 'http://users.diag.uniroma1.it/challenge9/data/USA-road-d/' + 'USA-road-d.NY.gr.gz'\n",
        "    filepath_t_gr = 'http://users.diag.uniroma1.it/challenge9/data/USA-road-t/' + 'USA-road-t.NY.gr.gz'\n",
        "    filepath_d_co = 'http://users.diag.uniroma1.it/challenge9/data/USA-road-d/' + 'USA-road-d.NY.co.gz'\n",
        "    \n",
        "    def loader(url):\n",
        "        name = url.rsplit('/', 1)[1].rsplit('.', 1)[0]\n",
        "        savename = name + '.txt'\n",
        "        \n",
        "        with open(savename, 'wb') as f_out:\n",
        "            with requests.get(url) as r:\n",
        "                f_in = gzip.decompress(r.content)\n",
        "                f_out.write(f_in)\n",
        "                \n",
        "        print(savename)\n",
        "            \n",
        "    loader(filepath_d_gr)\n",
        "    loader(filepath_t_gr)\n",
        "    loader(filepath_d_co)"
      ],
      "execution_count": 1,
      "outputs": [
        {
          "output_type": "stream",
          "text": [
            "USA-road-d.NY.gr.txt\n",
            "USA-road-t.NY.gr.txt\n",
            "USA-road-d.NY.co.txt\n"
          ],
          "name": "stdout"
        }
      ]
    },
    {
      "cell_type": "markdown",
      "metadata": {
        "id": "5p8wNfqaoPWp",
        "colab_type": "text"
      },
      "source": [
        "# Provided code"
      ]
    },
    {
      "cell_type": "markdown",
      "metadata": {
        "id": "MgQyZNbXoW1m",
        "colab_type": "text"
      },
      "source": [
        "## Graph and Vertex classes"
      ]
    },
    {
      "cell_type": "code",
      "metadata": {
        "id": "ywNJyeOdH0DE",
        "colab_type": "code",
        "colab": {}
      },
      "source": [
        "# Vertex implementation\n",
        "class Vertex:\n",
        "    # Initialization of a vertex, given a neighbor and the corresponding weight\n",
        "    # Each vertex contains a list of neighbors and corresponding weights\n",
        "    def __init__(self, i, neighbor_index, weight):\n",
        "        self.index = i\n",
        "        self.neighbors = [neighbor_index]\n",
        "        self.weights = [weight]\n",
        "        \n",
        "    def getNeighbors(self):\n",
        "        return self.neighbors\n",
        "    \n",
        "    def getWeights(self):\n",
        "        return self.weights\n",
        "    \n",
        "    # Add a neighbor with corresponding weight to the vertex\n",
        "    def _addNeighbor(self, neighbor_index, weight):\n",
        "        self.neighbors.append(neighbor_index)\n",
        "        self.weights.append(weight)\n",
        "\n",
        "\n",
        "# Graph data structure\n",
        "class Graph:\n",
        "    # Initializes a graph with n_vertices nodes\n",
        "    # The graph contains a list of vertices\n",
        "    def __init__(self, n_vertices):\n",
        "        self.vertices = [None] * (n_vertices+1)\n",
        "        self.num_vertices = len(self.vertices)\n",
        "    \n",
        "    # Returns the i'th node\n",
        "    def getVertex(self, i):\n",
        "        if ((i > len(self.vertices)) | (i <= 0)):\n",
        "            raise ValueError(f'index {i} is out of bounds')\n",
        "        else:\n",
        "            return self.vertices[i]\n",
        "    \n",
        "    # Adds a new vertex to the graph\n",
        "    def _addVertex(self, vertex_index, neighor_index, distance):\n",
        "        if (self.vertices[vertex_index] == None):\n",
        "            # Construct new vertex\n",
        "            self.vertices[vertex_index] = Vertex(vertex_index, neighor_index, distance)\n",
        "        else:\n",
        "            # Vertex already in graph but other neighbor, add extra edge\n",
        "            self.vertices[vertex_index]._addNeighbor(neighor_index, distance)\n",
        "\n",
        "\n"
      ],
      "execution_count": 0,
      "outputs": []
    },
    {
      "cell_type": "code",
      "metadata": {
        "id": "NLfr2jKb1BG0",
        "colab_type": "code",
        "colab": {}
      },
      "source": [
        "import fileinput\n",
        "\n",
        "# Read graph data\n",
        "def readGraph(filePath):\n",
        "    n_vertices = 0\n",
        "    for line in fileinput.input([filePath]):\n",
        "        words = line.split(\" \")\n",
        "        if (words[0] == \"p\"):\n",
        "            n_vertices = int(words[2])\n",
        "    graph = Graph(n_vertices)\n",
        "    for line in fileinput.input([filePath]):\n",
        "        words = line.split(\" \")\n",
        "        if (words[0] == \"a\"):\n",
        "            graph._addVertex(int(words[1]), int(words[2]), float(words[3]))\n",
        "    return graph\n",
        "\n",
        "\n",
        "# read coordinates data\n",
        "def readCoordinates(filepath):\n",
        "    # Start to count from 1\n",
        "    coordinates = [None]\n",
        "    for line in fileinput.input([filepath]):\n",
        "        words = line.split(\" \")\n",
        "        if (words[0] == \"v\"):\n",
        "            coordinates.append([float(words[2]), float(words[3])])\n",
        "    return coordinates\n"
      ],
      "execution_count": 0,
      "outputs": []
    },
    {
      "cell_type": "markdown",
      "metadata": {
        "id": "gP6t2Queo3XF",
        "colab_type": "text"
      },
      "source": [
        "## Usefull functions"
      ]
    },
    {
      "cell_type": "code",
      "metadata": {
        "id": "KzkGZ4vRpEQh",
        "colab_type": "code",
        "colab": {}
      },
      "source": [
        "import numpy as np\n",
        "    \n",
        "# Priority queue definition\n",
        "class PriorityQueue(dict):\n",
        "    def put(self, item, value):\n",
        "        # Watch out that value is not overwritten with higher value, shouldn't be allowed to happen!\n",
        "        self[item] = value  \n",
        "    \n",
        "    def pop(self):\n",
        "        \"\"\"\n",
        "        Returns the item with the lowest weight\n",
        "        \"\"\"\n",
        "        item_min = min(self, key=self.get)\n",
        "        super().pop(item_min)\n",
        "        return item_min\n",
        "\n",
        "    \n",
        "def angles2centimeters(lo, la):\n",
        "    \"\"\"\n",
        "    Convert longitude and latitude to local orthogonal grid\n",
        "    :param lo: longitude\n",
        "    :param la: latitude\n",
        "    :return: height and width coordinates in cm's\n",
        "    \"\"\"\n",
        "    \n",
        "    radius = 6300 * 1e4  # cm\n",
        "    la_mean = 40794234.  # 1e-6 degree\n",
        "    lo_mean = -74016939.  # 1e-6 degree\n",
        "    \n",
        "    w = radius * np.cos(np.radians(la / 1e6)) * np.radians((lo - lo_mean) / 1e6)\n",
        "    h = radius * np.radians((la - la_mean) / 1e6)\n",
        "    \n",
        "    return w, h "
      ],
      "execution_count": 0,
      "outputs": []
    },
    {
      "cell_type": "markdown",
      "metadata": {
        "id": "A-9Y6SPNohI9",
        "colab_type": "text"
      },
      "source": [
        "# Assignment"
      ]
    },
    {
      "cell_type": "markdown",
      "metadata": {
        "id": "bCW2g1kmoCFT",
        "colab_type": "text"
      },
      "source": [
        "## Read the data"
      ]
    },
    {
      "cell_type": "code",
      "metadata": {
        "id": "Wv4N_v5YOHN_",
        "colab_type": "code",
        "colab": {}
      },
      "source": [
        "# Read graph data and coordinates data (to be implemented)\n",
        "\n",
        "graph = None\n",
        "co = None"
      ],
      "execution_count": 0,
      "outputs": []
    },
    {
      "cell_type": "markdown",
      "metadata": {
        "id": "zn2IkMFvomqv",
        "colab_type": "text"
      },
      "source": [
        "## A* implementation"
      ]
    },
    {
      "cell_type": "markdown",
      "metadata": {
        "id": "eLr9TQnPpZjU",
        "colab_type": "text"
      },
      "source": [
        "### Heuristic"
      ]
    },
    {
      "cell_type": "code",
      "metadata": {
        "id": "mBPJoQ3CpcRF",
        "colab_type": "code",
        "colab": {}
      },
      "source": [
        "# TO BE IMPLEMENTED\n",
        "def h(node1, node2):\n",
        "    \"\"\"\n",
        "    Heuristic function\n",
        "    \"\"\"\n",
        "    \n",
        "    return 0"
      ],
      "execution_count": 0,
      "outputs": []
    },
    {
      "cell_type": "markdown",
      "metadata": {
        "id": "vpQY_3h1pcuW",
        "colab_type": "text"
      },
      "source": [
        "### Algorithm"
      ]
    },
    {
      "cell_type": "code",
      "metadata": {
        "id": "SrVq1cnTAbRG",
        "colab_type": "code",
        "colab": {}
      },
      "source": [
        "\n",
        "###########################################\n",
        "########## A* implementation ##############\n",
        "###########################################\n",
        "\n",
        "# TO BE IMPLEMENTED\n",
        "def a_star_search(graph, co, start, goal):\n",
        "    \"\"\"\n",
        "    A* algorithm\n",
        "    :param graph: Graph object\n",
        "    :param co: coordinates list\n",
        "    :param start: index of start node\n",
        "    :param goal: index of start node\n",
        "    :return: The path of nodes and total length\n",
        "    \"\"\"\n",
        "    \n",
        "    return [], 0\n"
      ],
      "execution_count": 0,
      "outputs": []
    },
    {
      "cell_type": "code",
      "metadata": {
        "id": "Em5GKHBfy1sL",
        "colab_type": "code",
        "outputId": "98c8175c-49ae-4d04-cc73-a97a674fd5d3",
        "colab": {
          "base_uri": "https://localhost:8080/",
          "height": 35
        }
      },
      "source": [
        "a_star_search(graph, co, 1, 2)"
      ],
      "execution_count": 8,
      "outputs": [
        {
          "output_type": "execute_result",
          "data": {
            "text/plain": [
              "([], 0)"
            ]
          },
          "metadata": {
            "tags": []
          },
          "execution_count": 8
        }
      ]
    },
    {
      "cell_type": "code",
      "metadata": {
        "id": "nZ372Drf9bup",
        "colab_type": "code",
        "colab": {}
      },
      "source": [
        ""
      ],
      "execution_count": 0,
      "outputs": []
    }
  ]
}