{
 "nbformat": 4,
 "nbformat_minor": 0,
 "metadata": {
  "colab": {
   "name": "a_star_student.ipynb",
   "provenance": [],
   "collapsed_sections": [],
   "toc_visible": true
  },
  "kernelspec": {
   "name": "python3",
   "language": "python",
   "display_name": "Python 3"
  },
  "pycharm": {
   "stem_cell": {
    "cell_type": "raw",
    "source": [],
    "metadata": {
     "collapsed": false
    }
   }
  }
 },
 "cells": [
  {
   "cell_type": "markdown",
   "metadata": {
    "id": "4KkORWl2F6M9",
    "colab_type": "text"
   },
   "source": [
    "# Load data to Colab"
   ]
  },
  {
   "cell_type": "code",
   "metadata": {
    "id": "kSqty85NFq-E",
    "colab_type": "code",
    "outputId": "f676ecf1-4364-4606-f061-d2f0f62b714d",
    "colab": {
     "base_uri": "https://localhost:8080/",
     "height": 72
    },
    "pycharm": {
     "is_executing": false
    }
   },
   "source": [
    "if False: # Manual loading\n",
    "    from google.colab import file\n",
    "    uploaded = files.upload() # then browse, select the files. It's then uploaded \n",
    "else: # Automatic loading\n",
    "    import requests\n",
    "    import gzip\n",
    "    \n",
    "    filepath_d_gr = 'http://users.diag.uniroma1.it/challenge9/data/USA-road-d/' + 'USA-road-d.NY.gr.gz'\n",
    "    filepath_t_gr = 'http://users.diag.uniroma1.it/challenge9/data/USA-road-t/' + 'USA-road-t.NY.gr.gz'\n",
    "    filepath_d_co = 'http://users.diag.uniroma1.it/challenge9/data/USA-road-d/' + 'USA-road-d.NY.co.gz'\n",
    "    \n",
    "    def loader(url):\n",
    "        name = url.rsplit('/', 1)[1].rsplit('.', 1)[0]\n",
    "        savename = name + '.txt'\n",
    "        \n",
    "        with open(savename, 'wb') as f_out:\n",
    "            with requests.get(url) as r:\n",
    "                f_in = gzip.decompress(r.content)\n",
    "                f_out.write(f_in)\n",
    "                \n",
    "        print(savename)\n",
    "            \n",
    "    loader(filepath_d_gr)\n",
    "    loader(filepath_t_gr)\n",
    "    loader(filepath_d_co)"
   ],
   "execution_count": 17,
   "outputs": [
    {
     "name": "stdout",
     "text": [
      "USA-road-d.NY.gr.txt\n",
      "USA-road-t.NY.gr.txt\n",
      "USA-road-d.NY.co.txt\n"
     ],
     "output_type": "stream"
    }
   ]
  },
  {
   "cell_type": "markdown",
   "metadata": {
    "id": "5p8wNfqaoPWp",
    "colab_type": "text"
   },
   "source": [
    "# Provided code"
   ]
  },
  {
   "cell_type": "markdown",
   "metadata": {
    "id": "MgQyZNbXoW1m",
    "colab_type": "text"
   },
   "source": [
    "## Graph and Vertex classes"
   ]
  },
  {
   "cell_type": "code",
   "metadata": {
    "id": "ywNJyeOdH0DE",
    "colab_type": "code",
    "colab": {},
    "pycharm": {
     "is_executing": false
    }
   },
   "source": [
    "# Vertex implementation\n",
    "class Vertex:\n",
    "    # Initialization of a vertex, given a neighbor and the corresponding weight\n",
    "    # Each vertex contains a list of neighbors and corresponding weights\n",
    "    def __init__(self, i, neighbor_index, weight):\n",
    "        self.index = i\n",
    "        self.neighbors = [neighbor_index]\n",
    "        self.weights = [weight]\n",
    "        \n",
    "    def get_neighbors(self):\n",
    "        return self.neighbors\n",
    "    \n",
    "    def get_weights(self):\n",
    "        return self.weights\n",
    "    \n",
    "    # Add a neighbor with corresponding weight to the vertex\n",
    "    def add_neighbor(self, neighbor_index, weight):\n",
    "        self.neighbors.append(neighbor_index)\n",
    "        self.weights.append(weight)\n",
    "\n",
    "\n",
    "# Graph data structure\n",
    "class Graph:\n",
    "    # Initializes a graph with n_vertices nodes\n",
    "    # The graph contains a list of vertices\n",
    "    def __init__(self, n_vertices):\n",
    "        self.vertices = [None] * (n_vertices+1)\n",
    "        self.num_vertices = len(self.vertices)\n",
    "    \n",
    "    # Returns the i'th node\n",
    "    def get_vertex(self, i):\n",
    "        if (i > len(self.vertices)) | (i <= 0):\n",
    "            raise ValueError(f'index {i} is out of bounds')\n",
    "        else:\n",
    "            return self.vertices[i]\n",
    "    \n",
    "    # Adds a new vertex to the graph\n",
    "    def add_vertex(self, vertex_index, neighor_index, distance):\n",
    "        if self.vertices[vertex_index] is None:\n",
    "            # Construct new vertex\n",
    "            self.vertices[vertex_index] = Vertex(vertex_index, neighor_index, distance)\n",
    "        else:\n",
    "            # Vertex already in graph but other neighbor, add extra edge\n",
    "            self.vertices[vertex_index].add_neighbor(neighor_index, distance)\n",
    "\n",
    "\n"
   ],
   "execution_count": 1,
   "outputs": []
  },
  {
   "cell_type": "code",
   "metadata": {
    "id": "NLfr2jKb1BG0",
    "colab_type": "code",
    "colab": {},
    "pycharm": {
     "is_executing": false
    }
   },
   "source": [
    "import fileinput\n",
    "\n",
    "# Read graph data\n",
    "def read_graph(file_path):\n",
    "    num_vertices = 0\n",
    "    for line in fileinput.input([file_path]):\n",
    "        words = line.split(\" \")\n",
    "        if words[0] == \"p\":\n",
    "            num_vertices = int(words[2])\n",
    "    graph = Graph(num_vertices)\n",
    "    for line in fileinput.input([file_path]):\n",
    "        words = line.split(\" \")\n",
    "        if words[0] == \"a\":\n",
    "            graph.add_vertex(int(words[1]), int(words[2]), float(words[3]))\n",
    "    return graph\n",
    "\n",
    "\n",
    "# read coordinates data\n",
    "def read_coordinates(filepath):\n",
    "    # Start to count from 1\n",
    "    coordinates = [None]\n",
    "    for line in fileinput.input([filepath]):\n",
    "        words = line.split(\" \")\n",
    "        if words[0] == \"v\":\n",
    "            coordinates.append([float(words[2]), float(words[3])])\n",
    "    return coordinates\n"
   ],
   "execution_count": 2,
   "outputs": []
  },
  {
   "cell_type": "markdown",
   "metadata": {
    "id": "gP6t2Queo3XF",
    "colab_type": "text"
   },
   "source": [
    "## Usefull functions"
   ]
  },
  {
   "cell_type": "code",
   "metadata": {
    "id": "KzkGZ4vRpEQh",
    "colab_type": "code",
    "colab": {},
    "pycharm": {
     "is_executing": false
    }
   },
   "source": [
    "import numpy as np\n",
    "    \n",
    "# Priority queue definition\n",
    "class PriorityQueue(dict):\n",
    "    def put(self, item, value):\n",
    "        # Watch out that value is not overwritten with higher value, shouldn't be allowed to happen!\n",
    "        self[item] = value  \n",
    "    \n",
    "    def pop(self):\n",
    "        \"\"\"\n",
    "        Returns the item with the lowest weight\n",
    "        \"\"\"\n",
    "        item_min = min(self, key=self.get)\n",
    "        super().pop(item_min)\n",
    "        return item_min\n",
    "\n",
    "    \n",
    "def angles2centimeters(lo, la):\n",
    "    \"\"\"\n",
    "    Convert longitude and latitude to local orthogonal grid\n",
    "    :param lo: longitude\n",
    "    :param la: latitude\n",
    "    :return: height and width coordinates in cm's\n",
    "    \"\"\"\n",
    "    radius = 6300 * 1e4  # cm\n",
    "    la_mean = 40794234.  # 1e-6 degree\n",
    "    lo_mean = -74016939.  # 1e-6 degree\n",
    "    \n",
    "    w = radius * np.cos(np.radians(la / 1e6)) * np.radians((lo - lo_mean) / 1e6)\n",
    "    h = radius * np.radians((la - la_mean) / 1e6)\n",
    "    \n",
    "    return w, h "
   ],
   "execution_count": 3,
   "outputs": []
  },
  {
   "cell_type": "markdown",
   "metadata": {
    "id": "A-9Y6SPNohI9",
    "colab_type": "text"
   },
   "source": [
    "# Assignment"
   ]
  },
  {
   "cell_type": "markdown",
   "metadata": {
    "id": "bCW2g1kmoCFT",
    "colab_type": "text"
   },
   "source": [
    "## Read the data"
   ]
  },
  {
   "cell_type": "code",
   "metadata": {
    "id": "Wv4N_v5YOHN_",
    "colab_type": "code",
    "colab": {},
    "pycharm": {
     "is_executing": false
    }
   },
   "source": [
    "# Read graph data and coordinates data (to be implemented)\n",
    "graph = read_graph('USA-road-d.NY.gr.txt')\n",
    "co = read_coordinates('USA-road-d.NY.co.txt')\n",
    "\n",
    "print(f'Vertices: {graph.num_vertices-1}')\n",
    "num_edges = 0\n",
    "for i in range(1, graph.num_vertices):\n",
    "    num_edges += len(graph.get_vertex(i).get_neighbors())\n",
    "print(f'Edges: {num_edges}')"
   ],
   "execution_count": 7,
   "outputs": [
    {
     "name": "stdout",
     "text": [
      "Vertices: 264346\n",
      "Edges: 733846\n"
     ],
     "output_type": "stream"
    }
   ]
  },
  {
   "cell_type": "markdown",
   "metadata": {
    "id": "zn2IkMFvomqv",
    "colab_type": "text"
   },
   "source": [
    "## A* implementation"
   ]
  },
  {
   "cell_type": "markdown",
   "metadata": {
    "id": "eLr9TQnPpZjU",
    "colab_type": "text"
   },
   "source": [
    "### Heuristic"
   ]
  },
  {
   "cell_type": "code",
   "metadata": {
    "id": "mBPJoQ3CpcRF",
    "colab_type": "code",
    "colab": {},
    "pycharm": {
     "is_executing": false
    }
   },
   "source": [
    "# TO BE IMPLEMENTED\n",
    "import math\n",
    "\n",
    "def h(node1, node2):\n",
    "    \"\"\"\n",
    "    Heuristic function\n",
    "    \"\"\"\n",
    "    co1 = co[node1]\n",
    "    x1, y1 = angles2centimeters(co1[0], co1[1])\n",
    "    \n",
    "    co2 = co[node2]\n",
    "    x2, y2 = angles2centimeters(co2[0], co2[1])\n",
    "    \n",
    "    # Euclidean\n",
    "    # distance = round(math.sqrt((x1-x2)**2 + (y1-y2)**2))\n",
    "    \n",
    "    # Manhattan\n",
    "    #distance = abs(x1-x2) + abs(y1-y2)\n",
    "    \n",
    "    # admissible but non-consistent\n",
    "    # if (node1 + node2) % 2 == 0:\n",
    "    #     distance = 0\n",
    "    # else:\n",
    "    #     distance = round(math.sqrt((x1-x2)**2 + (y1-y2)**2))\n",
    "        \n",
    "    # no heuristic\n",
    "    distance = 0\n",
    "    \n",
    "    return distance"
   ],
   "execution_count": 17,
   "outputs": []
  },
  {
   "cell_type": "markdown",
   "metadata": {
    "id": "vpQY_3h1pcuW",
    "colab_type": "text"
   },
   "source": [
    "### Algorithm"
   ]
  },
  {
   "cell_type": "code",
   "metadata": {
    "id": "SrVq1cnTAbRG",
    "colab_type": "code",
    "colab": {},
    "pycharm": {
     "is_executing": false
    }
   },
   "source": [
    "\n",
    "###########################################\n",
    "########## A* implementation ##############\n",
    "###########################################\n",
    "\n",
    "# TO BE IMPLEMENTED\n",
    "def a_star_search():\n",
    "    \"\"\"\n",
    "    A* algorithm\n",
    "    :param graph: Graph object\n",
    "    :param co: coordinates list\n",
    "    :param start: index of start node\n",
    "    :param goal: index of start node\n",
    "    :return: The path of nodes and total length\n",
    "    \"\"\"\n",
    "    open = [start]\n",
    "    closed = []\n",
    "    came_from = {}\n",
    "    g = {start: 0}\n",
    "    f = PriorityQueue()\n",
    "    f.put(start, h(start, goal))\n",
    "\n",
    "    while len(f) > 0:\n",
    "        current = f.pop()\n",
    "        if current == goal:\n",
    "            reversed_path = []\n",
    "            while current != start:\n",
    "                reversed_path.append(current)\n",
    "                current = came_from[current]\n",
    "            reversed_path.append(current)\n",
    "            path = [x for x in reversed(reversed_path)]\n",
    "            cost = g[goal]\n",
    "            return path, cost\n",
    "        \n",
    "        open.remove(current)\n",
    "        closed.append(current)\n",
    "\n",
    "        for index, neighbor in enumerate(graph.get_vertex(current).get_neighbors()):\n",
    "            if neighbor in closed:\n",
    "                continue\n",
    "            \n",
    "            tentative_g_score = g[current] + graph.get_vertex(current).get_weights()[index]\n",
    "            if neighbor not in open:\n",
    "                open.append(neighbor)\n",
    "            elif tentative_g_score >= g[neighbor]:\n",
    "                continue\n",
    "            \n",
    "            came_from[neighbor] = current\n",
    "            g[neighbor] = tentative_g_score\n",
    "            f.put(neighbor, g[neighbor] + h(neighbor, goal))"
   ],
   "execution_count": 13,
   "outputs": []
  },
  {
   "cell_type": "code",
   "metadata": {
    "id": "Em5GKHBfy1sL",
    "colab_type": "code",
    "outputId": "98c8175c-49ae-4d04-cc73-a97a674fd5d3",
    "colab": {
     "base_uri": "https://localhost:8080/",
     "height": 35
    },
    "pycharm": {
     "is_executing": false
    }
   },
   "source": [
    "import random\n",
    "\n",
    "gn = 16\n",
    "N = 264346\n",
    "random.seed(gn)\n",
    "start = random.randint(1, N+1)\n",
    "goal = random.randint(1, N+1)\n",
    "path, cost = a_star_search()\n",
    "print(f'Path from {start} to {goal}: {path}')\n",
    "print(f'Length: {len(path)-1} (excluding start)')\n",
    "print(f'Cost: {cost}')"
   ],
   "execution_count": 18,
   "outputs": [
    {
     "name": "stdout",
     "text": [
      "Path from 189543 to 246008: [189543, 189542, 189541, 189540, 189462, 189529, 187903, 187904, 187905, 189554, 189555, 189563, 189561, 189562, 189564, 189499, 189500, 189557, 189558, 189592, 189583, 189582, 189581, 189580, 189482, 189481, 189480, 189479, 189464, 189465, 187190, 187187, 187186, 187015, 187014, 132908, 132907, 133156, 132906, 133159, 133155, 133163, 133162, 133172, 133153, 133098, 133093, 133096, 133104, 133122, 133123, 133134, 133119, 133120, 133136, 133137, 133272, 133271, 133267, 133268, 139537, 139538, 249879, 249880, 249881, 249882, 249878, 249876, 249875, 249919, 249904, 249905, 250068, 249987, 249988, 238157, 238158, 249748, 249744, 249730, 250275, 250276, 250309, 249729, 238159, 238160, 250278, 250283, 250281, 250279, 250211, 250214, 250215, 250246, 250245, 250244, 250241, 250239, 250243, 238651, 250247, 250368, 250359, 250358, 250227, 242484, 242482, 242485, 242486, 242492, 236833, 236834, 242478, 242474, 242475, 242509, 242510, 242454, 242452, 242450, 242457, 242455, 242442, 242441, 245989, 245990, 245994, 245991, 245992, 246018, 245999, 246006, 246008]\n",
      "Length: 132 (excluding start)\n",
      "Cost: 191998.0\n"
     ],
     "output_type": "stream"
    }
   ]
  },
  {
   "cell_type": "code",
   "metadata": {
    "id": "nZ372Drf9bup",
    "colab_type": "code",
    "colab": {},
    "pycharm": {
     "is_executing": false
    }
   },
   "source": [
    ""
   ],
   "execution_count": 24,
   "outputs": []
  }
 ]
}